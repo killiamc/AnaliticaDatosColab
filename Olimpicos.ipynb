{
  "cells": [
    {
      "cell_type": "markdown",
      "metadata": {
        "id": "view-in-github",
        "colab_type": "text"
      },
      "source": [
        "<a href=\"https://colab.research.google.com/github/killiamc/AnaliticaDatosColab/blob/main/Olimpicos.ipynb\" target=\"_parent\"><img src=\"https://colab.research.google.com/assets/colab-badge.svg\" alt=\"Open In Colab\"/></a>"
      ]
    },
    {
      "cell_type": "code",
      "source": [
        "from google.colab import drive\n",
        "drive.mount('/content/drive')"
      ],
      "metadata": {
        "colab": {
          "base_uri": "https://localhost:8080/"
        },
        "id": "9hj-jz3bhCxR",
        "outputId": "271d376b-4070-47ea-8ab6-778d6350e241"
      },
      "execution_count": 117,
      "outputs": [
        {
          "output_type": "stream",
          "name": "stdout",
          "text": [
            "Drive already mounted at /content/drive; to attempt to forcibly remount, call drive.mount(\"/content/drive\", force_remount=True).\n"
          ]
        }
      ]
    },
    {
      "cell_type": "markdown",
      "source": [
        "Archivo 1 -> notebook\n",
        "Archivo 2 -> power point storytelling"
      ],
      "metadata": {
        "id": "3kd9nJOcS3BD"
      }
    },
    {
      "cell_type": "markdown",
      "source": [
        "#Importar librerias"
      ],
      "metadata": {
        "id": "tIeNHNh4GyUB"
      }
    },
    {
      "cell_type": "code",
      "source": [
        "!pip install googletrans==4.0.0-rc1"
      ],
      "metadata": {
        "colab": {
          "base_uri": "https://localhost:8080/"
        },
        "id": "fpoqLLj3CeGx",
        "outputId": "f43cdac8-17a9-4a53-9165-631279fd788a"
      },
      "execution_count": null,
      "outputs": [
        {
          "output_type": "stream",
          "name": "stdout",
          "text": [
            "Requirement already satisfied: googletrans==4.0.0-rc1 in /usr/local/lib/python3.10/dist-packages (4.0.0rc1)\n",
            "Requirement already satisfied: httpx==0.13.3 in /usr/local/lib/python3.10/dist-packages (from googletrans==4.0.0-rc1) (0.13.3)\n",
            "Requirement already satisfied: certifi in /usr/local/lib/python3.10/dist-packages (from httpx==0.13.3->googletrans==4.0.0-rc1) (2024.2.2)\n",
            "Requirement already satisfied: hstspreload in /usr/local/lib/python3.10/dist-packages (from httpx==0.13.3->googletrans==4.0.0-rc1) (2024.3.1)\n",
            "Requirement already satisfied: sniffio in /usr/local/lib/python3.10/dist-packages (from httpx==0.13.3->googletrans==4.0.0-rc1) (1.3.1)\n",
            "Requirement already satisfied: chardet==3.* in /usr/local/lib/python3.10/dist-packages (from httpx==0.13.3->googletrans==4.0.0-rc1) (3.0.4)\n",
            "Requirement already satisfied: idna==2.* in /usr/local/lib/python3.10/dist-packages (from httpx==0.13.3->googletrans==4.0.0-rc1) (2.10)\n",
            "Requirement already satisfied: rfc3986<2,>=1.3 in /usr/local/lib/python3.10/dist-packages (from httpx==0.13.3->googletrans==4.0.0-rc1) (1.5.0)\n",
            "Requirement already satisfied: httpcore==0.9.* in /usr/local/lib/python3.10/dist-packages (from httpx==0.13.3->googletrans==4.0.0-rc1) (0.9.1)\n",
            "Requirement already satisfied: h11<0.10,>=0.8 in /usr/local/lib/python3.10/dist-packages (from httpcore==0.9.*->httpx==0.13.3->googletrans==4.0.0-rc1) (0.9.0)\n",
            "Requirement already satisfied: h2==3.* in /usr/local/lib/python3.10/dist-packages (from httpcore==0.9.*->httpx==0.13.3->googletrans==4.0.0-rc1) (3.2.0)\n",
            "Requirement already satisfied: hyperframe<6,>=5.2.0 in /usr/local/lib/python3.10/dist-packages (from h2==3.*->httpcore==0.9.*->httpx==0.13.3->googletrans==4.0.0-rc1) (5.2.0)\n",
            "Requirement already satisfied: hpack<4,>=3.0 in /usr/local/lib/python3.10/dist-packages (from h2==3.*->httpcore==0.9.*->httpx==0.13.3->googletrans==4.0.0-rc1) (3.0.0)\n"
          ]
        }
      ]
    },
    {
      "cell_type": "code",
      "execution_count": null,
      "metadata": {
        "id": "uVs0u1VyGl8x"
      },
      "outputs": [],
      "source": [
        "import pandas as pd\n",
        "import seaborn as sns\n",
        "import matplotlib.pyplot as plt\n",
        "from googletrans import Translator"
      ]
    },
    {
      "cell_type": "markdown",
      "metadata": {
        "id": "VRTxw7cxIPiB"
      },
      "source": [
        "#Analisis de los juegos olimpicos"
      ]
    },
    {
      "cell_type": "code",
      "execution_count": null,
      "metadata": {
        "id": "9I6BxEVCIl2_"
      },
      "outputs": [],
      "source": [
        "OL= pd.read_csv(\"/content/drive/MyDrive/Colab_Notebooks/dataset_olympics.csv\")"
      ]
    },
    {
      "cell_type": "markdown",
      "source": [
        "Traduccion base de datos"
      ],
      "metadata": {
        "id": "YnCBzXv35gIl"
      }
    },
    {
      "cell_type": "code",
      "source": [
        "translator = Translator()\n",
        "translated_columns = []\n",
        "\n",
        "for column in OL.columns:\n",
        "    language = translator.detect(column).lang\n",
        "    translated_column = translator.translate(column, src=language, dest='es').text\n",
        "    translated_columns.append(translated_column)\n",
        "\n",
        "OL.columns = translated_columns"
      ],
      "metadata": {
        "id": "17x3EskR5fpl"
      },
      "execution_count": null,
      "outputs": []
    },
    {
      "cell_type": "markdown",
      "metadata": {
        "id": "sQxtCsfSqXHs"
      },
      "source": [
        "Conocer informacion de la base de datos"
      ]
    },
    {
      "cell_type": "code",
      "execution_count": null,
      "metadata": {
        "id": "9p0lRFF_qaTy"
      },
      "outputs": [],
      "source": [
        "OL.info()"
      ]
    },
    {
      "cell_type": "code",
      "source": [
        "OL.rename(columns={'No': 'NOC'}, inplace=True)\n",
        "OL.rename(columns={'IDENTIFICACIÓN': 'ID'}, inplace=True)"
      ],
      "metadata": {
        "id": "uSqzbLkBIn5g"
      },
      "execution_count": null,
      "outputs": []
    },
    {
      "cell_type": "code",
      "source": [
        "OL.info()"
      ],
      "metadata": {
        "id": "pxddpmo7I4J4"
      },
      "execution_count": null,
      "outputs": []
    },
    {
      "cell_type": "code",
      "source": [
        "traducciones_ciudades = {\n",
        "    'Albertville': 'Albertville',\n",
        "    'Amsterdam': 'Amsterdam',\n",
        "    'Antwerpen': 'Antwerpen',\n",
        "    'Athina': 'Athina',\n",
        "    'Atlanta': 'Atlanta',\n",
        "    'Barcelona': 'Barcelona',\n",
        "    'Beijing': 'Beijing',\n",
        "    'Berlin': 'Berlin',\n",
        "    'Calgary': 'Calgary',\n",
        "    'Chamonix': 'Chamonix',\n",
        "    \"Cortina d'Ampezzo\": \"Cortina d'Ampezzo\",\n",
        "    'Garmisch-Partenkirchen': 'Garmisch-Partenkirchen',\n",
        "    'Grenoble': 'Grenoble',\n",
        "    'Helsinki': 'Helsinki',\n",
        "    'Innsbruck': 'Innsbruck',\n",
        "    'Lake Placid': 'Lake Placid',\n",
        "    'Lillehammer': 'Lillehammer',\n",
        "    'London': 'London',\n",
        "    'Los Angeles': 'Los Angeles',\n",
        "    'Melbourne': 'Melbourne',\n",
        "    'Mexico City': 'Mexico City',\n",
        "    'Montreal': 'Montreal',\n",
        "    'Moskva': 'Moskva',\n",
        "    'Munich': 'Munich',\n",
        "    'Nagano': 'Nagano',\n",
        "    'Oslo': 'Oslo',\n",
        "    'Paris': 'Paris',\n",
        "    'Rio de Janeiro': 'Rio de Janeiro',\n",
        "    'Roma': 'Roma',\n",
        "    'Salt Lake City': 'Salt Lake City',\n",
        "    'Sankt Moritz': 'Sankt Moritz',\n",
        "    'Sapporo': 'Sapporo',\n",
        "    'Sarajevo': 'Sarajevo',\n",
        "    'Seoul': 'Seoul',\n",
        "    'Sochi': 'Sochi',\n",
        "    'Squaw Valley': 'Squaw Valley',\n",
        "    'St. Louis': 'St. Louis',\n",
        "    'Stockholm': 'Stockholm',\n",
        "    'Sydney': 'Sydney',\n",
        "    'Tokyo': 'Tokyo',\n",
        "    'Torino': 'Torino',\n",
        "    'Vancouver': 'Vancouver'\n",
        "}\n",
        "traducciones_estacion = {'Summer': 'Verano', 'Winter': 'Invierno'}\n",
        "traducciones_deportes = {\n",
        "    'Alpinism': 'Alpinismo',\n",
        "    'Archery': 'Tiro con arco',\n",
        "    'Art Competitions': 'Competiciones de arte',\n",
        "    'Athletics': 'Atletismo',\n",
        "    'Badminton': 'Bádminton',\n",
        "    'Baseball': 'Béisbol',\n",
        "    'Basketball': 'Baloncesto',\n",
        "    'Basque Pelota': 'Pelota vasca',\n",
        "    'Beach Volleyball': 'Voleibol de playa',\n",
        "    'Boxing': 'Boxeo',\n",
        "    'Canoeing': 'Canoa',\n",
        "    'Cricket': 'Críquet',\n",
        "    'Croquet': 'Croquet',\n",
        "    'Cycling': 'Ciclismo',\n",
        "    'Diving': 'Clavados',\n",
        "    'Equestrianism': 'Equitación',\n",
        "    'Fencing': 'Esgrima',\n",
        "    'Figure Skating': 'Patinaje artístico',\n",
        "    'Football': 'Fútbol',\n",
        "    'Golf': 'Golf',\n",
        "    'Gymnastics': 'Gimnasia',\n",
        "    'Handball': 'Balonmano',\n",
        "    'Hockey': 'Hockey',\n",
        "    'Ice Hockey': 'Hockey sobre hielo',\n",
        "    'Jeu De Paume': 'Jeu de paume',\n",
        "    'Judo': 'Judo',\n",
        "    'Lacrosse': 'Lacrosse',\n",
        "    'Modern Pentathlon': 'Pentatlón moderno',\n",
        "    'Motorboating': 'Motonáutica',\n",
        "    'Polo': 'Polo',\n",
        "    'Racquets': 'Raquetas',\n",
        "    'Rhythmic Gymnastics': 'Gimnasia rítmica',\n",
        "    'Roque': 'Roque',\n",
        "    'Rowing': 'Remo',\n",
        "    'Rugby': 'Rugby',\n",
        "    'Rugby Sevens': 'Rugby 7',\n",
        "    'Sailing': 'Vela',\n",
        "    'Shooting': 'Tiro',\n",
        "    'Softball': 'Softbol',\n",
        "    'Swimming': 'Natación',\n",
        "    'Synchronized Swimming': 'Natación sincronizada',\n",
        "    'Table Tennis': 'Tenis de mesa',\n",
        "    'Taekwondo': 'Taekwondo',\n",
        "    'Tennis': 'Tenis',\n",
        "    'Trampolining': 'Trampolín',\n",
        "    'Triathlon': 'Triatlón',\n",
        "    'Tug-Of-War': 'Tug-Of-War',\n",
        "    'Volleyball': 'Voleibol',\n",
        "    'Water Polo': 'Polo acuático',\n",
        "    'Weightlifting': 'Levantamiento de pesas',\n",
        "    'Wrestling': 'Lucha libre'\n",
        "}\n",
        "traducciones_medalla = {'Gold': 'Oro', 'Silver': 'Plata','Bronce':'Bronce'}\n",
        "\n",
        "OL['Ciudad'].replace(traducciones_ciudades, inplace=True)\n",
        "OL['Estación'].replace(traducciones_estacion, inplace=True)\n",
        "OL['Deporte'].replace(traducciones_deportes, inplace=True)\n",
        "OL['Medalla'].replace(traducciones_medalla, inplace=True)\n",
        "\n",
        "#columnas_a_traducir = [  'Ciudad', 'Deporte', 'Evento', 'Medalla']\n",
        "#for columna in columnas_a_traducir:\n",
        "#  traducciones = []\n",
        "#  for x in OL[columna]:\n",
        "#      y = translator.translate(str(x), src='en', dest='es').text\n",
        "#      traducciones.append(y)\n",
        "#  OL[columna] = traducciones\n",
        "\n",
        "OL.head(10)\n",
        "\n"
      ],
      "metadata": {
        "id": "XjMDG0lELgai"
      },
      "execution_count": null,
      "outputs": []
    },
    {
      "cell_type": "markdown",
      "metadata": {
        "id": "thRTJdXK2S5C"
      },
      "source": [
        "Se selecciona los de verano"
      ]
    },
    {
      "cell_type": "code",
      "execution_count": null,
      "metadata": {
        "id": "BZLbfBa2qupX"
      },
      "outputs": [],
      "source": [
        "OLV = OL[OL['Estación'] == 'Verano']\n",
        "OLV.info()"
      ]
    },
    {
      "cell_type": "markdown",
      "metadata": {
        "id": "f12dcKTP2mMt"
      },
      "source": [
        "Para remplazar los valores se ubica el deporte se deja por hombres y mujeres y se hace un interpolate de la posible estatura y peso que deberia tener el jugador debido a que el deporte exige un peso y altura."
      ]
    },
    {
      "cell_type": "code",
      "execution_count": null,
      "metadata": {
        "id": "LGnLj_kw14QP"
      },
      "outputs": [],
      "source": [
        "OLV = OLV.sort_values(by=['Deporte'])\n",
        "OLV.loc[OLV['Sexo'] == 'M', ['Altura','Peso']] = OLV[OLV['Sexo'] == 'M'][['Altura','Peso']].interpolate()\n",
        "OLV.loc[OLV['Sexo'] == 'F', ['Altura','Peso']] = OLV[OLV['Sexo'] == 'F'][['Altura','Peso']].interpolate()\n",
        "OLV = OLV.sort_values(by=['Edad'])\n",
        "OLV.tail()"
      ]
    },
    {
      "cell_type": "markdown",
      "metadata": {
        "id": "jx90sgRcKKyZ"
      },
      "source": [
        "Se elimina juegos y Season debido a que, el año es la misma informacion de juegos y se delimito anteriormente la temporada a verano, ya todos los valores son verano en el analisis."
      ]
    },
    {
      "cell_type": "code",
      "execution_count": null,
      "metadata": {
        "id": "Lv_SgsnaHGfE"
      },
      "outputs": [],
      "source": [
        "OLV.drop(['Juegos','Estación'],axis=1)\n",
        "OLV = OLV.sort_values(by=['ID'])\n",
        "OLV.head(10)"
      ]
    },
    {
      "cell_type": "code",
      "execution_count": null,
      "metadata": {
        "id": "5e8dQa1g-LKZ"
      },
      "outputs": [],
      "source": [
        "OLV.describe()"
      ]
    },
    {
      "cell_type": "markdown",
      "metadata": {
        "id": "oTlLgrCLKgI8"
      },
      "source": [
        "Cantidad de nombres de atletas duplicados"
      ]
    },
    {
      "cell_type": "code",
      "execution_count": null,
      "metadata": {
        "id": "35q_n45AripB"
      },
      "outputs": [],
      "source": [
        "print(OLV['Nombre'].duplicated().sum())"
      ]
    },
    {
      "cell_type": "markdown",
      "metadata": {
        "id": "zD53UjF4KjYd"
      },
      "source": [
        "Mapa calor de variables que se correlacionan"
      ]
    },
    {
      "cell_type": "code",
      "execution_count": null,
      "metadata": {
        "id": "IFWTRFXsG6d5"
      },
      "outputs": [],
      "source": [
        "plt.figure(figsize=(6,4))\n",
        "plt.suptitle(\"Mapa de calor Juegos Olimpicos\")\n",
        "sns.heatmap(OLV.corr(),annot=True,cmap=\"Reds\")\n",
        "plt.show()"
      ]
    },
    {
      "cell_type": "markdown",
      "metadata": {
        "id": "Y8W76p6iFkdp"
      },
      "source": [
        "# Agrupar por paises o NOC"
      ]
    },
    {
      "cell_type": "markdown",
      "metadata": {
        "id": "PMBr_H_sFwpd"
      },
      "source": [
        "Agrupamos por pais"
      ]
    },
    {
      "cell_type": "code",
      "execution_count": null,
      "metadata": {
        "id": "HgFlNAypbJK8"
      },
      "outputs": [],
      "source": [
        "Country = OLV.groupby(\"NOC\")\n",
        "Country.size()"
      ]
    },
    {
      "cell_type": "code",
      "execution_count": null,
      "metadata": {
        "id": "3dCEHoLTFwLh"
      },
      "outputs": [],
      "source": [
        "C = OLV.sort_values(by='NOC')\n",
        "co = Country.size().reset_index(name='Value')\n",
        "co = pd.DataFrame(co)\n",
        "co = co.sort_values(by='Value',ascending=False).head(85)\n",
        "print(co)\n",
        "fig, axes = plt.subplots(1,figsize=(35,10))\n",
        "fig.suptitle(\"Apariciones de paises en los juegos olimpicos\")\n",
        "sns.barplot(x='NOC',y='Value',data=co,palette=\"pastel\")"
      ]
    },
    {
      "cell_type": "markdown",
      "metadata": {
        "id": "bVhpEyQ2iXSs"
      },
      "source": [
        "Deportes jugados por pais en los olimpicos"
      ]
    },
    {
      "cell_type": "code",
      "execution_count": null,
      "metadata": {
        "id": "FtWm0Nbcc8or"
      },
      "outputs": [],
      "source": [
        "cont = 0\n",
        "dat_pais = []\n",
        "fig, axes = plt.subplots(226, 1, figsize=(30, 500))\n",
        "fig.suptitle(\"Juegos que participó cada país\")\n",
        "\n",
        "for key, group in OLV.groupby(\"NOC\"):\n",
        "    dat_pais.append(group)\n",
        "    sns.countplot(ax=axes[cont], data=dat_pais[cont], hue='Deporte', x='Deporte', palette='Set1', legend=False)\n",
        "    axes[cont].set_title(f'País: {key}')\n",
        "    cont += 1\n",
        "\n",
        "fig.tight_layout()\n",
        "plt.show()"
      ]
    },
    {
      "cell_type": "code",
      "execution_count": null,
      "metadata": {
        "id": "IGmaoAVQNN42"
      },
      "outputs": [],
      "source": [
        "cont = 0\n",
        "dat_pais = []\n",
        "fig, axes = plt.subplots(226, 1, figsize=(30, 500))\n",
        "fig.suptitle(\"Distribucion de genero en los deportes por pais\")\n",
        "colores_sexo = {'M': 'red', 'F': 'blue'}\n",
        "\n",
        "for key, group in OLV.groupby(\"NOC\"):\n",
        "    dat_pais.append(group)\n",
        "    sns.countplot(ax=axes[cont], data=dat_pais[cont], hue='Sexo', x='Deporte', palette=colores_sexo)\n",
        "    axes[cont].set_title(f'País: {key}')\n",
        "    cont += 1\n",
        "\n",
        "fig.tight_layout()\n",
        "plt.show()"
      ]
    },
    {
      "cell_type": "markdown",
      "metadata": {
        "id": "iZYkpdeCNs79"
      },
      "source": [
        "Medallas por pais"
      ]
    },
    {
      "cell_type": "code",
      "execution_count": null,
      "metadata": {
        "id": "1tgEIwbWpQ9_"
      },
      "outputs": [],
      "source": [
        "cont = 0\n",
        "dat_pais = []\n",
        "fig, axes = plt.subplots(226, 1, figsize=(30, 500))\n",
        "fig.suptitle(\"Cantidad de medallas que tiene cada pais\")\n",
        "colores_medallas = {'Oro': 'red', 'Plata': 'blue', 'Bronze': 'green'}\n",
        "\n",
        "for key, group in OLV.groupby(\"NOC\"):\n",
        "    group = group.dropna(subset=['Medalla'])\n",
        "    dat_pais.append(group)\n",
        "    sns.countplot(ax=axes[cont], data=dat_pais[cont], hue='Medalla', x='Medalla', palette=colores_medallas)\n",
        "    axes[cont].set_title(f'País: {key}')\n",
        "    cont += 1\n",
        "\n",
        "fig.tight_layout()\n",
        "plt.show()"
      ]
    },
    {
      "cell_type": "markdown",
      "metadata": {
        "id": "8MYLRaGoNCS1"
      },
      "source": [
        "Mejores deportistas por pais"
      ]
    },
    {
      "cell_type": "code",
      "execution_count": null,
      "metadata": {
        "id": "t_nmPZPCMACn"
      },
      "outputs": [],
      "source": [
        "cont = 0\n",
        "dat_pais_at = []\n",
        "fig, axes = plt.subplots(226, 1, figsize=(30, 500))\n",
        "fig.suptitle(\"Atletas con la mayor cantidad de medallas\")\n",
        "\n",
        "for key, group in OLV.groupby(\"NOC\"):\n",
        "    group = group.dropna(subset=['Medalla'])\n",
        "    athlete_counts = group.groupby('Nombre')['Medalla'].count().sort_values(ascending=False)\n",
        "    athlete_counts = pd.DataFrame(athlete_counts.head(10))\n",
        "    dat_pais_at.append(athlete_counts)\n",
        "    sns.countplot(ax=axes[cont], data=dat_pais_at[cont], hue='Medalla', x='Nombre', palette=\"pastel\")\n",
        "    axes[cont].set_title(f'País: {key}')\n",
        "    cont += 1\n",
        "\n",
        "fig.tight_layout()\n",
        "plt.show()"
      ]
    },
    {
      "cell_type": "code",
      "execution_count": null,
      "metadata": {
        "id": "Gv1ThyCQRMv9"
      },
      "outputs": [],
      "source": [
        "cont = 0\n",
        "dat_pais_at = []\n",
        "fig, axes = plt.subplots(226, 1, figsize=(30, 500))\n",
        "fig.suptitle(\"Juegos que participó cada país\")\n",
        "\n",
        "for key, group in OLV.groupby(\"NOC\"):\n",
        "    group = group.dropna(subset=['Medalla'])\n",
        "    athlete_counts = group.groupby(['Deporte','Nombre'])['Medalla'].count().sort_values(ascending=False)\n",
        "    athlete_counts = pd.DataFrame(athlete_counts.head(10))\n",
        "    dat_pais_at.append(athlete_counts)\n",
        "    sns.countplot(ax=axes[cont], data=dat_pais_at[cont], hue='Deporte', x='Nombre', palette='pastel')\n",
        "    axes[cont].set_title(f'País: {key}')\n",
        "    cont += 1\n",
        "\n",
        "fig.tight_layout()\n",
        "plt.show()"
      ]
    },
    {
      "cell_type": "code",
      "execution_count": null,
      "metadata": {
        "id": "35sHODgncHgH"
      },
      "outputs": [],
      "source": [
        "dat_pais_at = []\n",
        "fig, axes = plt.subplots(226, 1, figsize=(55, 500))\n",
        "fig.suptitle(\"Mejores 3 atletas por deporte y país\")\n",
        "\n",
        "# Iterar sobre cada país\n",
        "for i, (key, group) in enumerate(OLV.groupby(\"NOC\")):\n",
        "    group = group.dropna(subset=['Medalla'])\n",
        "    athlete_counts = group.groupby(['Deporte', 'Nombre'])['Medalla'].count().reset_index()\n",
        "    top_10_athletes = athlete_counts.groupby('Deporte').apply(lambda x: x.nlargest(3, 'Medalla')).reset_index(drop=True)\n",
        "    dat_pais_at.append(top_10_athletes)\n",
        "    sns.barplot(ax=axes[i], data=top_10_athletes, x='Nombre', y='Medalla', hue='Deporte', palette='Set1')\n",
        "    axes[i].set_title(f'País: {key}')\n",
        "\n",
        "# Ajustar el diseño de la figura\n",
        "fig.tight_layout()\n",
        "plt.show()"
      ]
    },
    {
      "cell_type": "markdown",
      "source": [
        "Mejores años de cada pais -> mostrar en que año se ganaron mas medallas"
      ],
      "metadata": {
        "id": "TauB0xpu8B99"
      }
    },
    {
      "cell_type": "code",
      "source": [
        "cont = 0\n",
        "dat_pais_year = []\n",
        "fig, axes = plt.subplots(226, 1, figsize=(30, 500))\n",
        "fig.suptitle(\"Distribución de medallas de cada país por los años\")\n",
        "\n",
        "for key, group in OLV.groupby(\"NOC\"):\n",
        "    group = group.dropna(subset=['Medalla'])\n",
        "    dat_pais_year.append(group)\n",
        "    sns.kdeplot(ax=axes[cont], data=dat_pais_year[cont], x='Año', palette='colorblind')\n",
        "    axes[cont].set_title(f'País: {key}')\n",
        "    cont += 1\n",
        "\n",
        "fig.tight_layout()\n",
        "plt.show()"
      ],
      "metadata": {
        "id": "paKcuWoR8BPL"
      },
      "execution_count": null,
      "outputs": []
    },
    {
      "cell_type": "markdown",
      "metadata": {
        "id": "_wnsjnRlDH62"
      },
      "source": [
        "# Juegos olimpicos durante los años"
      ]
    },
    {
      "cell_type": "code",
      "execution_count": null,
      "metadata": {
        "id": "YIfT9DimXzDz"
      },
      "outputs": [],
      "source": [
        "year = OLV.groupby('Año')\n",
        "year.size()"
      ]
    },
    {
      "cell_type": "code",
      "execution_count": null,
      "metadata": {
        "id": "oTx3_MqDYNqb"
      },
      "outputs": [],
      "source": [
        "year.value_counts()\n",
        "fig, axes = plt.subplots(2,1,figsize=(30,10))\n",
        "fig.suptitle(\"Competidores inscritos por año juegos olimpicos\")\n",
        "sns.kdeplot(ax=axes[0],data=OLV, x=\"Año\",multiple=\"stack\",palette=\"green\")\n",
        "sns.countplot(ax=axes[1],x='Año',data=OLV,palette=\"pastel\")"
      ]
    },
    {
      "cell_type": "code",
      "execution_count": null,
      "metadata": {
        "id": "nm67CHJVS4a4"
      },
      "outputs": [],
      "source": [
        "cont = 0\n",
        "dat_year = []\n",
        "fig, axes = plt.subplots(29, 1, figsize=(30, 90))\n",
        "fig.suptitle(\"Juegos que participó cada país\")\n",
        "\n",
        "\n",
        "for key, group in OLV.groupby(\"Año\"):\n",
        "    dat_year.append(group)\n",
        "    sorted_group = group['NOC'].value_counts().head(40).sort_values(ascending=False).index\n",
        "    sns.countplot(ax=axes[cont], data=dat_year[cont], hue='NOC', x='NOC', palette='Set1',order = sorted_group)\n",
        "    axes[cont].set_title(f'Año: {key}')\n",
        "    cont += 1\n",
        "\n",
        "fig.tight_layout()\n",
        "plt.show()"
      ]
    },
    {
      "cell_type": "code",
      "execution_count": null,
      "metadata": {
        "id": "SFAAin8EkKS_"
      },
      "outputs": [],
      "source": [
        "cont = 0\n",
        "dat_year = []\n",
        "fig, axes = plt.subplots(29, 1, figsize=(45, 90))\n",
        "fig.suptitle(\"Generos de cada pais que participaron en los olimpicos durante los años\")\n",
        "\n",
        "for key, group in OLV.groupby(\"Año\"):\n",
        "    dat_year.append(group)\n",
        "    sorted_group = group['NOC'].value_counts().head(30).sort_values(ascending=False).index\n",
        "    sns.countplot(ax=axes[cont], data=dat_year[cont], hue='Sexo', x='NOC', palette='Set1',order = sorted_group)\n",
        "    axes[cont].set_title(f'Año: {key}')\n",
        "    cont += 1\n",
        "\n",
        "fig.tight_layout()\n",
        "plt.show()"
      ]
    },
    {
      "cell_type": "markdown",
      "source": [
        "Top 20 de paises con medallas por año"
      ],
      "metadata": {
        "id": "pEKjtNCCOtNJ"
      }
    },
    {
      "cell_type": "code",
      "execution_count": null,
      "metadata": {
        "id": "Xkh_DtiTkfDf"
      },
      "outputs": [],
      "source": [
        "cont = 0\n",
        "dat_year = []\n",
        "fig, axes = plt.subplots(29, 1, figsize=(30, 90))\n",
        "fig.suptitle(\"País que gano mas medallas en cada distribucion de los olimpicos\")\n",
        "\n",
        "for key, group in OLV.groupby(\"Año\"):\n",
        "    group = group.dropna(subset=['Medalla'])\n",
        "    dat_year.append(group)\n",
        "    sorted_group = group['NOC'].value_counts().head(20).sort_values(ascending=False).index\n",
        "    sns.countplot(ax=axes[cont], data=dat_year[cont], hue='NOC', x='NOC', palette='Set1',order = sorted_group)\n",
        "    axes[cont].set_title(f'Año: {key}')\n",
        "    cont += 1\n",
        "\n",
        "fig.tight_layout()\n",
        "plt.show()"
      ]
    },
    {
      "cell_type": "code",
      "execution_count": null,
      "metadata": {
        "id": "6v-Q70PxlfMx"
      },
      "outputs": [],
      "source": [
        "cont = 0\n",
        "dat_year = []\n",
        "fig, axes = plt.subplots(29, 1, figsize=(55, 100))\n",
        "fig.suptitle(\"Distribucion de medallas segun los mas ganadores\")\n",
        "colores_medallas = {'Oro': 'red', 'Plata': 'blue', 'Bronze': 'green'}\n",
        "\n",
        "for key, group in OLV.groupby(\"Año\"):\n",
        "    group = group.dropna(subset=['Medalla'])\n",
        "    dat_year.append(group)\n",
        "    sorted_group = group['NOC'].value_counts().head(10).sort_values(ascending=False).index\n",
        "\n",
        "    sns.countplot(ax=axes[cont], data=dat_year[cont], hue='Medalla', x='NOC', palette=colores_medallas, order=sorted_group)\n",
        "    axes[cont].set_title(f'Año: {key}')\n",
        "    cont += 1\n",
        "\n",
        "fig.tight_layout()\n",
        "plt.show()"
      ]
    },
    {
      "cell_type": "markdown",
      "source": [
        "Aumento de competiores masculinos y femeninos"
      ],
      "metadata": {
        "id": "9MYT-cunQmxa"
      }
    },
    {
      "cell_type": "code",
      "source": [
        "fig, axes = plt.subplots(2, 1, figsize=(15, 20))\n",
        "fig.suptitle(\"Cantidad de competidores masculinos en los años\")\n",
        "mas =OLV[OLV['Sexo'] == 'M']\n",
        "mas = pd.DataFrame(mas)\n",
        "sns.kdeplot(ax=axes[0], data=mas , x='Año', palette='pastel')\n",
        "axes[0].set_title('Año Masculino')\n",
        "fem = OLV[OLV['Sexo'] == 'F']\n",
        "fem = pd.DataFrame(fem)\n",
        "sns.kdeplot(ax=axes[1], data=fem, x='Año', palette='pastel')\n",
        "axes[1].set_title('Año Femeninos')\n"
      ],
      "metadata": {
        "id": "0P57cvZUQmN5"
      },
      "execution_count": null,
      "outputs": []
    },
    {
      "cell_type": "code",
      "source": [
        "fig, axes = plt.subplots(2, 1, figsize=(15, 20))\n",
        "fig.suptitle(\"Cantidad de competidores masculinos en los años\")\n",
        "mas =OLV[OLV['Sexo'] == 'M']\n",
        "mas = mas.dropna(subset=['Medalla'])\n",
        "mas = pd.DataFrame(mas)\n",
        "sns.kdeplot(ax=axes[0], data=mas , x='Año', palette='pastel')\n",
        "axes[0].set_title('Año Masculino')\n",
        "\n",
        "fem = OLV[OLV['Sexo'] == 'F']\n",
        "fem = fem.dropna(subset=['Medalla'])\n",
        "fem = pd.DataFrame(fem)\n",
        "sns.kdeplot(ax=axes[1], data=fem, x='Año', palette='pastel')\n",
        "axes[1].set_title('Año Femeninos')\n"
      ],
      "metadata": {
        "id": "Z8mo59R6Q9Pv"
      },
      "execution_count": null,
      "outputs": []
    },
    {
      "cell_type": "markdown",
      "metadata": {
        "id": "j-SdOg_kXpZf"
      },
      "source": [
        "# Sport"
      ]
    },
    {
      "cell_type": "code",
      "execution_count": null,
      "metadata": {
        "id": "ryhw0tb3kyV9"
      },
      "outputs": [],
      "source": [
        "sport = OLV.groupby('Deporte')\n",
        "sport.size()"
      ]
    },
    {
      "cell_type": "code",
      "execution_count": null,
      "metadata": {
        "id": "1urBSRDlmqx6"
      },
      "outputs": [],
      "source": [
        "sport.value_counts()\n",
        "print(sport)\n",
        "fig, axes = plt.subplots(1,figsize=(60,15))\n",
        "fig.suptitle(\"Competidores inscritos por año juegos olimpicos\")\n",
        "sns.countplot(x='Deporte',data=OLV,palette=\"pastel\")"
      ]
    },
    {
      "cell_type": "markdown",
      "source": [
        "Evolucion de cada deporte durante los años"
      ],
      "metadata": {
        "id": "Ie2N9K7HEf2J"
      }
    },
    {
      "cell_type": "code",
      "source": [
        "cont = 0\n",
        "dat_sport = []\n",
        "fig, axes = plt.subplots(52, 1, figsize=(15, 100))\n",
        "fig.suptitle(\"Distribucion de jugadores en cada deporte durante los años\")\n",
        "\n",
        "for key, group in OLV.groupby(\"Deporte\"):\n",
        "    dat_sport.append(group)\n",
        "    sns.kdeplot(ax=axes[cont], data=dat_sport[cont], x='Año')\n",
        "    axes[cont].set_title(f'Deporte: {key}')\n",
        "    cont += 1\n",
        "\n",
        "fig.tight_layout()\n",
        "fig.show()"
      ],
      "metadata": {
        "id": "qZgaDJ-3EjFM"
      },
      "execution_count": null,
      "outputs": []
    },
    {
      "cell_type": "markdown",
      "source": [
        "Valores atipicos de cada deporte"
      ],
      "metadata": {
        "id": "2RHkH7hyTSot"
      }
    },
    {
      "cell_type": "code",
      "source": [
        "cont = 0\n",
        "dat_sport = []\n",
        "fig, axes = plt.subplots(51, 3, figsize=(15, 100))\n",
        "fig.suptitle(\"Variables de los jugadores por deporte\")\n",
        "\n",
        "for key, group in OLV.groupby(\"Deporte\"):\n",
        "    if key != 'Alpinismo':\n",
        "        dat_sport.append(group)\n",
        "        sns.boxplot(ax=axes[cont,0], data=dat_sport[cont],x = 'Sexo', y='Altura', color='skyblue')\n",
        "        sns.boxplot(ax=axes[cont,1], data=dat_sport[cont],x = 'Sexo', y='Peso', color='salmon')\n",
        "        sns.boxplot(ax=axes[cont,2], data=dat_sport[cont],x = 'Sexo', y='Edad', color='green')\n",
        "        axes[cont,0].set_title(f'Deporte: {key}')\n",
        "        axes[cont,1].set_title(f'Deporte: {key}')\n",
        "        axes[cont,2].set_title(f'Deporte: {key}')\n",
        "        cont += 1\n",
        "\n",
        "fig.tight_layout()\n",
        "plt.show()"
      ],
      "metadata": {
        "id": "t_01GGWLTU4N"
      },
      "execution_count": null,
      "outputs": []
    },
    {
      "cell_type": "code",
      "source": [
        "cont = 0\n",
        "dat_sport = []\n",
        "fig, axes = plt.subplots(52, 3, figsize=(15, 100))\n",
        "fig.suptitle(\"Varibales de los mejores jugadores en cada deporte\")\n",
        "\n",
        "for key, group in OLV.groupby(\"Deporte\"):\n",
        "    if key != 'Alpinismo':\n",
        "        group = group.dropna(subset=['Medalla'])\n",
        "        dat_sport.append(group)\n",
        "        sns.boxplot(ax=axes[cont,0], data=dat_sport[cont],x = 'Sexo', y='Altura', color='skyblue')\n",
        "        sns.boxplot(ax=axes[cont,1], data=dat_sport[cont],x= 'Sexo', y='Peso', color='salmon')\n",
        "        sns.boxplot(ax=axes[cont,2], data=dat_sport[cont],x = 'Sexo', y='Edad', color='green')\n",
        "        axes[cont,0].set_title(f'Deporte: {key}')\n",
        "        axes[cont,1].set_title(f'Deporte: {key}')\n",
        "        axes[cont,2].set_title(f'Deporte: {key}')\n",
        "        cont += 1\n",
        "\n",
        "fig.tight_layout()\n",
        "fig.show()"
      ],
      "metadata": {
        "id": "Gn4Ju8OJjsAT"
      },
      "execution_count": null,
      "outputs": []
    },
    {
      "cell_type": "markdown",
      "source": [
        "Categorias de cada deporte numero de jugadores"
      ],
      "metadata": {
        "id": "hf3aU6Jtuhj7"
      }
    },
    {
      "cell_type": "code",
      "source": [
        "cont = 0\n",
        "dat_sport = []\n",
        "fig, axes = plt.subplots(52, 1, figsize=(50, 60))\n",
        "fig.suptitle(\"Categorias de cada deporte\")\n",
        "\n",
        "for key, group in OLV.groupby(\"Deporte\"):\n",
        "    dat_sport.append(group)\n",
        "    sorted_group = group['Evento'].value_counts().sort_values(ascending=False).index\n",
        "    sns.countplot(ax=axes[cont], data=dat_sport[cont], hue='Evento', x='Evento', palette='Set1',order=sorted_group)\n",
        "    axes[cont].set_title(f'Deportes: {key}')\n",
        "    cont += 1\n",
        "\n",
        "fig.tight_layout()\n",
        "plt.show()"
      ],
      "metadata": {
        "id": "2LlUkZhUug-o"
      },
      "execution_count": null,
      "outputs": []
    },
    {
      "cell_type": "markdown",
      "source": [
        "Aumento de participantes de juegos por pais"
      ],
      "metadata": {
        "id": "1G3qnReQI8Jc"
      }
    },
    {
      "cell_type": "code",
      "execution_count": null,
      "metadata": {
        "id": "aGwXbcn1oYEw"
      },
      "outputs": [],
      "source": [
        "cont = 0\n",
        "dat_sport = []\n",
        "fig, axes = plt.subplots(52, 1, figsize=(20, 100))\n",
        "fig.suptitle(\"Mejores atletas de cada deporte\")\n",
        "\n",
        "for key, group in OLV.groupby(\"Deporte\"):\n",
        "    dat_sport.append(group)\n",
        "    sorted_group = group['NOC'].value_counts().head(10).sort_values(ascending=False).index\n",
        "    sns.countplot(ax=axes[cont], data=dat_sport[cont], hue='NOC', x='NOC', palette='Set1',order=sorted_group)\n",
        "    axes[cont].set_title(f'Deportes: {key}')\n",
        "    cont += 1\n",
        "\n",
        "fig.tight_layout()\n",
        "plt.show()"
      ]
    },
    {
      "cell_type": "code",
      "execution_count": null,
      "metadata": {
        "id": "bda8e5GlpVE_"
      },
      "outputs": [],
      "source": [
        "cont = 0\n",
        "dat_sport = []\n",
        "fig, axes = plt.subplots(52, 1, figsize=(20, 100))\n",
        "fig.suptitle(\"Los Paises que mas juegan un deporte para hombres\")\n",
        "\n",
        "for key, group in OLV.groupby(\"Deporte\"):\n",
        "    group = group[group['Sexo'] == 'M']  # Filtrar por hombres\n",
        "    dat_sport.append(group)\n",
        "    sorted_group = group['NOC'].value_counts().head(10).sort_values(ascending=False).index\n",
        "    sns.countplot(ax=axes[cont], data=dat_sport[cont], hue='NOC', x='NOC', palette='Set1', order=sorted_group)\n",
        "    axes[cont].set_title(f'Deporte: {key}')\n",
        "    cont += 1\n",
        "\n",
        "fig.tight_layout()\n",
        "plt.show()"
      ]
    },
    {
      "cell_type": "code",
      "source": [
        "cont = 0\n",
        "dat_sport = []\n",
        "fig, axes = plt.subplots(52, 1, figsize=(20, 100))\n",
        "fig.suptitle(\"Los Paises que ms juegan un deporte para Mujeres\")\n",
        "\n",
        "for key, group in OLV.groupby(\"Deporte\"):\n",
        "    group = group[group['Sexo'] == 'F']\n",
        "    dat_sport.append(group)\n",
        "    sorted_group = group['NOC'].value_counts().head(10).sort_values(ascending=False).index\n",
        "    sns.countplot(ax=axes[cont], data=dat_sport[cont], hue='NOC', x='NOC', palette='Set1', order=sorted_group)\n",
        "    axes[cont].set_title(f'Deporte: {key}')\n",
        "    cont += 1\n",
        "\n",
        "fig.tight_layout()\n",
        "plt.show()"
      ],
      "metadata": {
        "id": "dbCq6wMTM2gs"
      },
      "execution_count": null,
      "outputs": []
    },
    {
      "cell_type": "code",
      "execution_count": null,
      "metadata": {
        "id": "7vmSDbPqpYR-"
      },
      "outputs": [],
      "source": [
        "cont = 0\n",
        "dat_sport = []\n",
        "fig, axes = plt.subplots(52, 1, figsize=(55, 100))\n",
        "fig.suptitle(\"Paises que tuvieron mas medallas\")\n",
        "colores_medallas = {'Oro': 'red', 'Plata': 'blue', 'Bronze': 'green'}\n",
        "\n",
        "for key, group in OLV.groupby(\"Deporte\"):\n",
        "    group = group.dropna(subset=['Medalla'])\n",
        "    dat_sport.append(group)\n",
        "    sorted_group = group['NOC'].value_counts().head(15).sort_values(ascending=False).index\n",
        "    sns.countplot(ax=axes[cont], data=dat_sport[cont], hue='Medalla', x='NOC', palette=colores_medallas, order=sorted_group)\n",
        "    axes[cont].set_title(f'Deportes: {key}')\n",
        "    cont += 1\n",
        "\n",
        "fig.tight_layout()\n",
        "plt.show()"
      ]
    },
    {
      "cell_type": "code",
      "source": [
        "cont = 0\n",
        "dat_sport = []\n",
        "fig, axes = plt.subplots(52, 1, figsize=(55, 100))\n",
        "fig.suptitle(\"Paises que tuvieron mas medallas hombres\")\n",
        "\n",
        "for key, group in OLV.groupby(\"Deporte\"):\n",
        "    group = group.dropna(subset=['Medalla'])\n",
        "    group = group[group['Sexo'] == 'M']\n",
        "    dat_sport.append(group)\n",
        "    sorted_group = group['NOC'].value_counts().head(20).sort_values(ascending=False).index\n",
        "    sns.countplot(ax=axes[cont], data=dat_sport[cont], hue='Medalla', x='NOC', order=sorted_group, palette=colores_medallas)\n",
        "    axes[cont].set_title(f'Deportes: {key}')\n",
        "    cont += 1\n",
        "\n",
        "fig.tight_layout()\n",
        "plt.show()"
      ],
      "metadata": {
        "id": "EfFOooPNOIAw"
      },
      "execution_count": null,
      "outputs": []
    },
    {
      "cell_type": "code",
      "source": [
        "cont = 0\n",
        "dat_sport = []\n",
        "fig, axes = plt.subplots(52, 1, figsize=(55, 100))\n",
        "fig.suptitle(\"Paises que tuvieron mas medallas mujeres\")\n",
        "\n",
        "for key, group in OLV.groupby(\"Deporte\"):\n",
        "    group = group.dropna(subset=['Medalla'])\n",
        "    group = group[group['Sexo'] == 'F']\n",
        "    dat_sport.append(group)\n",
        "    sorted_group = group['NOC'].value_counts().head(20).sort_values(ascending=False).index\n",
        "    sns.countplot(ax=axes[cont], data=dat_sport[cont], hue='Medalla', x='NOC', order=sorted_group, palette=colores_medallas)\n",
        "    axes[cont].set_title(f'Deportes: {key}')\n",
        "    cont += 1\n",
        "\n",
        "fig.tight_layout()\n",
        "plt.show()"
      ],
      "metadata": {
        "id": "imY1GjmhOKsn"
      },
      "execution_count": null,
      "outputs": []
    },
    {
      "cell_type": "markdown",
      "source": [
        "# Evento"
      ],
      "metadata": {
        "id": "7D_ijWyh2tT4"
      }
    },
    {
      "cell_type": "code",
      "source": [
        "Evento = OLV.groupby('Evento')\n",
        "Evento.size()"
      ],
      "metadata": {
        "id": "u3r4wKm027dW"
      },
      "execution_count": null,
      "outputs": []
    },
    {
      "cell_type": "code",
      "source": [
        "dept_espe = sport.get_group('Atletismo')\n",
        "dept_espe = pd.DataFrame(dept_espe)\n",
        "x = dept_espe.groupby('Evento')\n",
        "x.size()"
      ],
      "metadata": {
        "id": "kqFHwwCn50Wt"
      },
      "execution_count": null,
      "outputs": []
    },
    {
      "cell_type": "code",
      "source": [
        "cont = 0\n",
        "dat_sport = []\n",
        "fig, axes = plt.subplots(83, 1, figsize=(15, 100))\n",
        "fig.suptitle(\"Distribucion de jugadores en cada evento durante los años\")\n",
        "\n",
        "for key, group in dept_espe.groupby(\"Evento\"):\n",
        "    dat_sport.append(group)\n",
        "    sns.kdeplot(ax=axes[cont], data=dat_sport[cont], x='Año')\n",
        "    axes[cont].set_title(f'Evento: {key}')\n",
        "    cont += 1\n",
        "\n",
        "fig.tight_layout()\n",
        "fig.show()"
      ],
      "metadata": {
        "id": "zkclRiaY2x85"
      },
      "execution_count": null,
      "outputs": []
    },
    {
      "cell_type": "code",
      "source": [
        "cont = 0\n",
        "dat_sport = []\n",
        "fig, axes = plt.subplots(83, 3, figsize=(15, 100))\n",
        "fig.suptitle(\"Variables de los mejores jugadores por evento\")\n",
        "\n",
        "for key, group in dept_espe.groupby(\"Deporte\"):\n",
        "    if key != 'Alpinismo':\n",
        "        group = group.dropna(subset=\"Medalla\")\n",
        "        dat_sport.append(group)\n",
        "        sns.boxplot(ax=axes[cont,0], data=dat_sport[cont],x = 'Sexo', y='Altura', color='skyblue')\n",
        "        sns.boxplot(ax=axes[cont,1], data=dat_sport[cont],x = 'Sexo', y='Peso', color='salmon')\n",
        "        sns.boxplot(ax=axes[cont,2], data=dat_sport[cont],x = 'Sexo', y='Edad', color='green')\n",
        "        axes[cont,0].set_title(f'Deporte: {key}')\n",
        "        axes[cont,1].set_title(f'Deporte: {key}')\n",
        "        axes[cont,2].set_title(f'Deporte: {key}')\n",
        "        cont += 1\n",
        "\n",
        "fig.tight_layout()\n",
        "plt.show()"
      ],
      "metadata": {
        "id": "5FVrCD-23d9k"
      },
      "execution_count": null,
      "outputs": []
    },
    {
      "cell_type": "markdown",
      "metadata": {
        "id": "LKo7VdKQ6LS6"
      },
      "source": [
        "#Medallas ganadas durante las competencias"
      ]
    },
    {
      "cell_type": "code",
      "execution_count": null,
      "metadata": {
        "id": "0AVlLMAmVrFn"
      },
      "outputs": [],
      "source": [
        "medallas = OLV.fillna({'Medalla': 'No Medalla'})\n",
        "medallas =pd.DataFrame(medallas)\n",
        "conteo_medallas = medallas['Medalla'].value_counts()\n",
        "print(conteo_medallas)\n",
        "plt.figure(figsize=(6, 6))\n",
        "plt.pie(conteo_medallas, labels=conteo_medallas.index, explode=[0, 0.1, 0 ,0], autopct='%1.1f%%', shadow=True)\n",
        "plt.title('Distribución de medallas')\n",
        "plt.show()"
      ]
    },
    {
      "cell_type": "code",
      "execution_count": null,
      "metadata": {
        "id": "eIyrIacbMqy6"
      },
      "outputs": [],
      "source": [
        "medallas = OLV.dropna(subset=['Medalla'])\n",
        "conteo_medallas = medallas['Medalla'].value_counts()\n",
        "plt.figure(figsize=(6, 6))\n",
        "plt.pie(conteo_medallas, labels=conteo_medallas.index, explode=[0, 0.1, 0], autopct='%1.1f%%', shadow=True)\n",
        "plt.title('Distribución de medallas')\n",
        "plt.show()"
      ]
    },
    {
      "cell_type": "code",
      "execution_count": null,
      "metadata": {
        "id": "jW6jRhRJ2cwb"
      },
      "outputs": [],
      "source": [
        "cont = 0\n",
        "dat_med = []\n",
        "fig, axes = plt.subplots(3, 1, figsize=(30, 30))\n",
        "fig.suptitle(\"Mayores numeros de medallas por pais\")\n",
        "\n",
        "for key, group in OLV.groupby(\"Medalla\"):\n",
        "    group = group.dropna(subset=['Medalla'])\n",
        "    dat_med.append(group)\n",
        "    sorted_group = group['NOC'].value_counts().head(30).sort_values(ascending=False).index\n",
        "    sns.countplot(ax=axes[cont], data=dat_med[cont], hue='NOC', x='NOC', palette='Set1', legend=False, order = sorted_group)\n",
        "    axes[cont].set_title(f'Medalla: {key}')\n",
        "    cont += 1\n",
        "\n",
        "fig.tight_layout(pad=0.4)\n",
        "plt.show()"
      ]
    },
    {
      "cell_type": "code",
      "execution_count": null,
      "metadata": {
        "id": "gmB2U4qE6RqO"
      },
      "outputs": [],
      "source": [
        "cont = 0\n",
        "dat_med = []\n",
        "fig, axes = plt.subplots(3, 1, figsize=(35, 30))\n",
        "fig.suptitle(\"Mayores numeros de medallas por pais\")\n",
        "\n",
        "for key, group in OLV.groupby(\"Medalla\"):\n",
        "    group = group.dropna(subset=['Medalla'])\n",
        "    dat_med.append(group)\n",
        "    sns.countplot(ax=axes[cont], data=dat_med[cont], hue='Deporte', x='Deporte', palette='Set1', legend=False)\n",
        "    axes[cont].set_title(f'Medalla: {key}')\n",
        "    cont += 1\n",
        "\n",
        "fig.tight_layout(pad=0.4)\n",
        "plt.show()"
      ]
    },
    {
      "cell_type": "code",
      "execution_count": null,
      "metadata": {
        "id": "LtqZcDkM7UBw"
      },
      "outputs": [],
      "source": [
        "cont = 0\n",
        "dat_med = []\n",
        "fig, axes = plt.subplots(3, 1, figsize=(35, 30))\n",
        "fig.suptitle(\"Mayores numeros de medallas por Genero\")\n",
        "\n",
        "for key, group in OLV.groupby(\"Medalla\"):\n",
        "    group = group.dropna(subset=['Medalla'])\n",
        "    dat_med.append(group)\n",
        "    conteo_medallas = group['Sexo'].value_counts()\n",
        "    axes[cont].pie(conteo_medallas, labels=conteo_medallas.index, explode=[0, 0.1], autopct='%1.1f%%', shadow=True)\n",
        "    axes[cont].set_title(f'Medalla: {key}')\n",
        "    cont += 1\n",
        "\n",
        "fig.tight_layout()\n",
        "plt.show()"
      ]
    },
    {
      "cell_type": "markdown",
      "source": [
        "# Para Colombia"
      ],
      "metadata": {
        "id": "wWYb6IR3wqU0"
      }
    },
    {
      "cell_type": "markdown",
      "source": [
        "Latinoamerica"
      ],
      "metadata": {
        "id": "Bgry4jqowIE1"
      }
    },
    {
      "cell_type": "code",
      "source": [
        "abreviaturas = [\"ARG\", \"BOL\", \"BRA\", \"CHI\", \"COL\", \"ECU\", \"GUY\", \"PAR\", \"PER\", \"SUR\", \"URU\", \"VEN\",\"BIZ\", \"CRC\", \"CUB\", \"ESA\", \"GUA\", \"HON\", \"NCA\", \"PAN\", \"PUR\",\"WIF\"]\n",
        "paisesla = OLV[OLV['NOC'].isin(abreviaturas)]\n",
        "paisesla = paisesla.sort_values(by='NOC')\n",
        "paisesla = pd.DataFrame(paisesla)\n",
        "\n",
        "la = paisesla.groupby('NOC')\n",
        "mejoreslat = la.size().reset_index(name='Value')\n",
        "mejoreslat = pd.DataFrame(mejoreslat)\n",
        "mejoreslat = mejoreslat.sort_values(by='Value',ascending=False)\n",
        "\n",
        "fig, axes = plt.subplots(1,figsize=(35,10))\n",
        "fig.suptitle(\"Competidores de Latinoamerica en los olimpicos\")\n",
        "sns.barplot(x='NOC',y='Value',data=mejoreslat,palette=\"pastel\")\n",
        "\n"
      ],
      "metadata": {
        "id": "sTVYMvGArI_K"
      },
      "execution_count": null,
      "outputs": []
    },
    {
      "cell_type": "code",
      "source": [
        "med_lat = paisesla.dropna(subset=['Medalla'])\n",
        "paiseslamed = med_lat[med_lat['NOC'].isin(abreviaturas)]\n",
        "paiseslamed = paiseslamed.sort_values(by='NOC')\n",
        "paiseslamed = pd.DataFrame(paisesla)\n",
        "\n",
        "mejoreslat = la.size().reset_index(name='Value')\n",
        "mejoreslat = pd.DataFrame(mejoreslat)\n",
        "mejoreslat = mejoreslat.sort_values(by='Value',ascending=False)\n",
        "\n",
        "fig, axes = plt.subplots(1,figsize=(35,10))\n",
        "fig.suptitle(\"Competidores de Latinoamerica en los olimpicos\")\n",
        "sns.barplot(x='NOC',y='Value',data=mejoreslat,palette=\"pastel\")\n"
      ],
      "metadata": {
        "id": "1QpHnpwV3BAt"
      },
      "execution_count": null,
      "outputs": []
    },
    {
      "cell_type": "markdown",
      "source": [
        "Medallas distribuidas en latinoamerica"
      ],
      "metadata": {
        "id": "jp7F1KBzaQn8"
      }
    },
    {
      "cell_type": "code",
      "source": [
        "cont = 0\n",
        "dat_medlat = []\n",
        "fig, axes = plt.subplots(3, 1, figsize=(35, 30))\n",
        "fig.suptitle(\"Medallas distribuidas en latinoamerica\")\n",
        "\n",
        "for key, group in paisesla.groupby(\"Medalla\"):\n",
        "    group = group.dropna(subset=['Medalla'])\n",
        "    dat_medlat.append(group)\n",
        "    conteo_medallas = group['Sexo'].value_counts()\n",
        "    axes[cont].pie(conteo_medallas, labels=conteo_medallas.index, explode=[0, 0.1], autopct='%1.1f%%', shadow=True)\n",
        "    axes[cont].set_title(f'Medalla: {key}')\n",
        "    cont += 1\n",
        "\n",
        "fig.tight_layout()\n",
        "plt.show()"
      ],
      "metadata": {
        "id": "T_or-wHQZ9cX"
      },
      "execution_count": null,
      "outputs": []
    },
    {
      "cell_type": "markdown",
      "source": [
        "Medallas distribuidas en colombia"
      ],
      "metadata": {
        "id": "zET940ShaTzu"
      }
    },
    {
      "cell_type": "code",
      "source": [
        "col = la.get_group('COL')\n",
        "col = pd.DataFrame(col)\n",
        "print(col.to_string())"
      ],
      "metadata": {
        "id": "h_cVYdyCbiGu"
      },
      "execution_count": null,
      "outputs": []
    },
    {
      "cell_type": "code",
      "source": [
        "fig, axes = plt.subplots(1, 1, figsize=(20, 15))\n",
        "fig.suptitle(\"Medallas distribuidas en Colombia\")\n",
        "col_med = col.dropna(subset=['Medalla'])\n",
        "col_med = pd.DataFrame(col_med)\n",
        "sns.countplot(x='Sexo',hue='Medalla',data=col_med,palette=\"pastel\")\n",
        "cont += 1\n",
        "\n",
        "fig.tight_layout()\n",
        "plt.show()"
      ],
      "metadata": {
        "id": "jD-Ye2B6bU-8"
      },
      "execution_count": null,
      "outputs": []
    },
    {
      "cell_type": "markdown",
      "source": [
        "Evolucion de participantes colombia olipicos"
      ],
      "metadata": {
        "id": "8Yiyvjymf0jT"
      }
    },
    {
      "cell_type": "code",
      "source": [
        "depcol = col.groupby('Deporte')\n",
        "depcol.size()"
      ],
      "metadata": {
        "id": "02I_m7PigQ7S"
      },
      "execution_count": null,
      "outputs": []
    },
    {
      "cell_type": "code",
      "source": [
        "cont = 0\n",
        "dat_coldept = []\n",
        "fig, axes = plt.subplots(21, 1, figsize=(35, 30))\n",
        "fig.suptitle(\"Deportes jugados en colombia en los olimpicos\")\n",
        "\n",
        "for key, group in col.groupby(\"Deporte\"):\n",
        "    dat_coldept.append(group)\n",
        "    conteo_medallas = group['Sexo'].value_counts()\n",
        "    sns.countplot(ax=axes[cont],x='Evento',hue='Evento',data=dat_coldept[cont],palette=\"pastel\")\n",
        "    axes[cont].set_title(f'Medalla: {key}')\n",
        "    cont += 1\n",
        "\n",
        "fig.tight_layout()\n",
        "plt.show()"
      ],
      "metadata": {
        "id": "5fAyl_yVmMY6"
      },
      "execution_count": null,
      "outputs": []
    },
    {
      "cell_type": "code",
      "source": [
        "cont = 0\n",
        "dat_coldept = []\n",
        "fig, axes = plt.subplots(21, 1, figsize=(35, 30))\n",
        "fig.suptitle(\"Deportes jugados en colombia en los olimpicos\")\n",
        "\n",
        "for key, group in col.groupby(\"Deporte\"):\n",
        "    group = group.dropna(subset=['Medalla'])\n",
        "    dat_coldept.append(group)\n",
        "    conteo_medallas = group['Sexo'].value_counts()\n",
        "    sns.countplot(ax=axes[cont],x='Evento',hue='Evento',data=dat_coldept[cont],palette=\"pastel\")\n",
        "    axes[cont].set_title(f'Medalla: {key}')\n",
        "    cont += 1\n",
        "\n",
        "fig.tight_layout()\n",
        "plt.show()"
      ],
      "metadata": {
        "id": "165gLZpLnY2u"
      },
      "execution_count": null,
      "outputs": []
    },
    {
      "cell_type": "markdown",
      "source": [
        "Mejores atletas colombianos"
      ],
      "metadata": {
        "id": "lCr7ArHlonEG"
      }
    },
    {
      "cell_type": "code",
      "source": [
        "fig, axes = plt.subplots(1, 1, figsize=(25, 5))\n",
        "fig.suptitle(\"Atletas con la mayor cantidad de medallas en Colombia\")\n",
        "\n",
        "athlete_counts = col.groupby('Nombre')['Medalla'].count().sort_values(ascending=False)\n",
        "athlete_counts = pd.DataFrame(athlete_counts.head(5))\n",
        "sns.countplot (data=athlete_counts, hue='Medalla', x='Nombre', palette=\"pastel\")\n",
        "\n",
        "fig.tight_layout()\n",
        "plt.show()"
      ],
      "metadata": {
        "id": "FeOWeWQyomnt"
      },
      "execution_count": null,
      "outputs": []
    },
    {
      "cell_type": "markdown",
      "source": [
        "Participacion de colombia durante los años"
      ],
      "metadata": {
        "id": "RyYpHckOnE0x"
      }
    },
    {
      "cell_type": "code",
      "source": [
        "\n",
        "fig, axes = plt.subplots(2, 1, figsize=(15, 10))\n",
        "fig.suptitle(\"Distribucion de jugadores en los juegos olimpicos en Colombia\")\n",
        "sns.kdeplot(ax=axes[0],data=col, x=\"Año\",multiple=\"stack\",palette=\"green\")\n",
        "sns.countplot(ax=axes[1],x='Año',data=col,palette=\"pastel\")\n",
        "\n",
        "fig.tight_layout()\n",
        "fig.show()"
      ],
      "metadata": {
        "id": "piFwCCSsmUJ9"
      },
      "execution_count": null,
      "outputs": []
    },
    {
      "cell_type": "markdown",
      "source": [
        "Evolucion participantes de deportes en colombia"
      ],
      "metadata": {
        "id": "Mt2_olGXf5wQ"
      }
    },
    {
      "cell_type": "code",
      "source": [
        "cont = 0\n",
        "dat_depcol = []\n",
        "fig, axes = plt.subplots(21, 1, figsize=(15, 50))\n",
        "fig.suptitle(\"Distribucion de jugadores en cada deporte durante los años en colombia\")\n",
        "\n",
        "for key, group in col.groupby(\"Deporte\"):\n",
        "    dat_depcol.append(group)\n",
        "    sns.kdeplot(ax=axes[cont], data=dat_depcol[cont], x='Año')\n",
        "    axes[cont].set_title(f'Deporte: {key}')\n",
        "    cont += 1\n",
        "\n",
        "fig.tight_layout()\n",
        "fig.show()"
      ],
      "metadata": {
        "id": "yMO6nU-XfhQy"
      },
      "execution_count": null,
      "outputs": []
    },
    {
      "cell_type": "markdown",
      "source": [
        "Mejores Deportes para colombia"
      ],
      "metadata": {
        "id": "zqbb_-Ocf3ry"
      }
    },
    {
      "cell_type": "code",
      "source": [
        "cont = 0\n",
        "dat_depcol = []\n",
        "fig, axes = plt.subplots(21, 1, figsize=(15, 50))\n",
        "fig.suptitle(\"Distribucion de jugadores en cada deporte durante los años en colombia\")\n",
        "\n",
        "for key, group in col.groupby(\"Deporte\"):\n",
        "    group = group.dropna(subset='Medalla')\n",
        "    dat_depcol.append(group)\n",
        "    sns.countplot(ax=axes[cont], data=dat_depcol[cont], x='Año',hue='Sexo')\n",
        "    axes[cont].set_title(f'Deporte: {key}')\n",
        "    cont += 1\n",
        "\n",
        "fig.tight_layout()\n",
        "fig.show()"
      ],
      "metadata": {
        "id": "CVGkNY1VhD6o"
      },
      "execution_count": null,
      "outputs": []
    }
  ],
  "metadata": {
    "colab": {
      "collapsed_sections": [
        "LKo7VdKQ6LS6"
      ],
      "provenance": [],
      "include_colab_link": true
    },
    "kernelspec": {
      "display_name": "Python 3",
      "name": "python3"
    },
    "language_info": {
      "name": "python"
    }
  },
  "nbformat": 4,
  "nbformat_minor": 0
}